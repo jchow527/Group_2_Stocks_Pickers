{
 "cells": [
  {
   "cell_type": "code",
   "execution_count": 1,
   "id": "794dd4f5-4c72-4a43-9d28-8ec6e1d63a3f",
   "metadata": {},
   "outputs": [],
   "source": [
    "# pip install get-all-tickers\n",
    "\n",
    "import pandas as pd\n",
    "from pytickersymbols import PyTickerSymbols\n",
    "\n",
    "stock_data = PyTickerSymbols()\n",
    "\n"
   ]
  },
  {
   "cell_type": "code",
   "execution_count": 2,
   "id": "b52b9bcc-cd7f-4442-81de-7c4d1d2636c4",
   "metadata": {
    "tags": []
   },
   "outputs": [],
   "source": [
    "# the naming conversation is get_{index_name}_{exchange_city}_{yahoo or google}_tickers\n",
    "\n",
    "sp500_yahoo = stock_data.get_sp_500_nyc_yahoo_tickers()\n",
    "\n",
    "# dax_google = stock_data.get_dax_frankfurt_google_tickers()\n",
    "\n",
    "# dax_yahoo = stock_data.get_dax_frankfurt_yahoo_tickers()\n",
    "# sp100_yahoo = stock_data.get_sp_100_nyc_yahoo_tickers()\n",
    "# sp500_google = stock_data.get_sp_500_nyc_google_tickers()\n",
    "# dow_yahoo = stock_data.get_dow_jones_nyc_yahoo_tickers()\n",
    "# # there are too many combination. Here is a complete list of all getters\n",
    "# all_ticker_getter_names = list(filter(\n",
    "#    lambda x: (\n",
    "#          x.endswith('_google_tickers') or x.endswith('_yahoo_tickers')\n",
    "#    ),\n",
    "#    dir(stock_data),\n",
    "# ))\n",
    "# print(all_ticker_getter_names)"
   ]
  },
  {
   "cell_type": "code",
   "execution_count": 3,
   "id": "756252eb-3b4e-437b-ba34-fb18a7d241c5",
   "metadata": {},
   "outputs": [],
   "source": [
    "# all_ticker_getter_names_df = pd.DataFrame(all_ticker_getter_names)\n",
    "# all_ticker_getter_names_df"
   ]
  },
  {
   "cell_type": "code",
   "execution_count": 4,
   "id": "378d38a5-5011-45b8-a3a0-3fa22590d17d",
   "metadata": {},
   "outputs": [],
   "source": [
    "# all_ticker_getter_names_df.to_csv('all_ticker_getter_names.csv')"
   ]
  },
  {
   "cell_type": "code",
   "execution_count": 5,
   "id": "f7474456-39fc-4492-b936-eae3bee58f16",
   "metadata": {
    "tags": []
   },
   "outputs": [],
   "source": [
    "sp500_yahoo_df = pd.DataFrame(sp500_yahoo)\n",
    "sp500_yahoo_df.to_csv('sp500_yahoo.csv')"
   ]
  },
  {
   "cell_type": "code",
   "execution_count": 6,
   "id": "4cccdc07-f679-4764-a085-ec610743bd3c",
   "metadata": {},
   "outputs": [
    {
     "data": {
      "text/html": [
       "<div>\n",
       "<style scoped>\n",
       "    .dataframe tbody tr th:only-of-type {\n",
       "        vertical-align: middle;\n",
       "    }\n",
       "\n",
       "    .dataframe tbody tr th {\n",
       "        vertical-align: top;\n",
       "    }\n",
       "\n",
       "    .dataframe thead th {\n",
       "        text-align: right;\n",
       "    }\n",
       "</style>\n",
       "<table border=\"1\" class=\"dataframe\">\n",
       "  <thead>\n",
       "    <tr style=\"text-align: right;\">\n",
       "      <th></th>\n",
       "      <th>0</th>\n",
       "    </tr>\n",
       "  </thead>\n",
       "  <tbody>\n",
       "    <tr>\n",
       "      <th>0</th>\n",
       "      <td>LIN</td>\n",
       "    </tr>\n",
       "    <tr>\n",
       "      <th>1</th>\n",
       "      <td>CCL</td>\n",
       "    </tr>\n",
       "    <tr>\n",
       "      <th>2</th>\n",
       "      <td>CUK</td>\n",
       "    </tr>\n",
       "    <tr>\n",
       "      <th>3</th>\n",
       "      <td>CUKPF</td>\n",
       "    </tr>\n",
       "    <tr>\n",
       "      <th>4</th>\n",
       "      <td>STE</td>\n",
       "    </tr>\n",
       "    <tr>\n",
       "      <th>...</th>\n",
       "      <td>...</td>\n",
       "    </tr>\n",
       "    <tr>\n",
       "      <th>526</th>\n",
       "      <td>TECH</td>\n",
       "    </tr>\n",
       "    <tr>\n",
       "      <th>527</th>\n",
       "      <td>BRO</td>\n",
       "    </tr>\n",
       "    <tr>\n",
       "      <th>528</th>\n",
       "      <td>CDAY</td>\n",
       "    </tr>\n",
       "    <tr>\n",
       "      <th>529</th>\n",
       "      <td>IR</td>\n",
       "    </tr>\n",
       "    <tr>\n",
       "      <th>530</th>\n",
       "      <td>CTRA</td>\n",
       "    </tr>\n",
       "  </tbody>\n",
       "</table>\n",
       "<p>531 rows × 1 columns</p>\n",
       "</div>"
      ],
      "text/plain": [
       "         0\n",
       "0      LIN\n",
       "1      CCL\n",
       "2      CUK\n",
       "3    CUKPF\n",
       "4      STE\n",
       "..     ...\n",
       "526   TECH\n",
       "527    BRO\n",
       "528   CDAY\n",
       "529     IR\n",
       "530   CTRA\n",
       "\n",
       "[531 rows x 1 columns]"
      ]
     },
     "execution_count": 6,
     "metadata": {},
     "output_type": "execute_result"
    }
   ],
   "source": [
    "# print(dow_yahoo)\n",
    "sp500_yahoo_df"
   ]
  },
  {
   "cell_type": "code",
   "execution_count": null,
   "id": "37f486f3-693b-4ef7-b50e-f6d5c106e45c",
   "metadata": {},
   "outputs": [],
   "source": []
  }
 ],
 "metadata": {
  "kernelspec": {
   "display_name": "dev",
   "language": "python",
   "name": "dev"
  },
  "language_info": {
   "codemirror_mode": {
    "name": "ipython",
    "version": 3
   },
   "file_extension": ".py",
   "mimetype": "text/x-python",
   "name": "python",
   "nbconvert_exporter": "python",
   "pygments_lexer": "ipython3",
   "version": "3.7.13"
  }
 },
 "nbformat": 4,
 "nbformat_minor": 5
}
